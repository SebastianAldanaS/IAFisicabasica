{
  "nbformat": 4,
  "nbformat_minor": 0,
  "metadata": {
    "colab": {
      "provenance": [],
      "include_colab_link": true
    },
    "kernelspec": {
      "name": "python3",
      "display_name": "Python 3"
    },
    "language_info": {
      "name": "python"
    }
  },
  "cells": [
    {
      "cell_type": "markdown",
      "metadata": {
        "id": "view-in-github",
        "colab_type": "text"
      },
      "source": [
        "<a href=\"https://colab.research.google.com/github/SebastianAldanaS/IAFisicabasica/blob/main/final.ipynb\" target=\"_parent\"><img src=\"https://colab.research.google.com/assets/colab-badge.svg\" alt=\"Open In Colab\"/></a>"
      ]
    },
    {
      "cell_type": "code",
      "source": [
        "from math import sqrt\n",
        "\n",
        "def calcu(alt,tiem,velf,veli,gra,pal):\n",
        "  v=0\n",
        "  if pal.lower() == 'tiempo':\n",
        "    if velf != 0 and tiem == 0:\n",
        "      v = (velf - veli)/gra\n",
        "    if alt != 0 and tiem == 0:\n",
        "      v = sqrt((2*alt)/gra)\n",
        "    return v\n",
        "  if pal.lower() == 'velocidad':\n",
        "    if tiem != 0 and velf == 0:\n",
        "      v = veli+gra*tiem\n",
        "    if alt != 0 and velf == 0:\n",
        "      v = sqrt(veli**2 + 2*gra*alt)\n",
        "    return v\n",
        "  if pal.lower() == 'altura':\n",
        "    if tiem != 0 and alt == 0:\n",
        "      v = veli * tiem + 0.5 * gra * (tiem**2)\n",
        "    if velf != 0 and alt == 0:\n",
        "      v = (velf**2 - veli**2)/(2*gra)\n",
        "    return v"
      ],
      "metadata": {
        "id": "Y0RLnENo5kNn"
      },
      "execution_count": 2,
      "outputs": []
    },
    {
      "cell_type": "code",
      "source": [],
      "metadata": {
        "id": "5CYesPo8wiRc"
      },
      "execution_count": null,
      "outputs": []
    },
    {
      "cell_type": "code",
      "metadata": {
        "id": "TSARPcLf5VBB",
        "colab": {
          "base_uri": "https://localhost:8080/"
        },
        "outputId": "6f547b5f-51b3-4f7a-b613-c9c7a571355e"
      },
      "source": [
        "import re\n",
        "\n",
        "\n",
        "temp_string ='Un cuerpo se deja caer desde un edificio de la ciudad de México. Calcular, a) ¿Cuál será la velocidad final que este objeto tendrá a los 10 segundos cuando llegue al suelo?, b) ¿Cuál es la altura del edificio?'\n",
        "temp_string = re.sub(\"\\.|\\,|\\;|\\?| a| b\",\"\",temp_string)\n",
        "\n",
        "palabras = list(temp_string.split(sep=')'))\n",
        "\n",
        "\n",
        "y   = 0   #altura\n",
        "t   = 0   #tiempo\n",
        "vf  = 0   #velocidad final\n",
        "vi  = 0   #velocidad inicial\n",
        "g   = 9.8 #gravedad\n",
        "\n",
        "busqueda = ['final','altura','tiempo','inicial','distancia','velocidad','suelo']\n",
        "seudo = ['segundos','metros','m/s','gravedad']\n",
        "\n",
        "frase = list(palabras[0].split())\n",
        "\n",
        "for j in frase:\n",
        "\n",
        "  for h in seudo:\n",
        "    if(h.lower()==j.lower()):\n",
        "      if numbers != []:\n",
        "        if j.lower() == 'metros':\n",
        "          y=int(numbers[0])\n",
        "          numbers.pop(0)\n",
        "        if j.lower() == 'segundos':\n",
        "          t=int(numbers[0])\n",
        "          numbers.pop(0)\n",
        "        if j.lower() == 'm/s':\n",
        "          vi=int(numbers[0])\n",
        "          numbers.pop(0)\n",
        "  numbers = [int(temp) for temp in j.split() if temp.isdigit()]\n",
        "\n",
        "palabras.pop(0)\n",
        "\n",
        "for i in palabras:\n",
        "  frase = list(i.split())\n",
        "\n",
        "  for j in frase:\n",
        "\n",
        "    for h in seudo:\n",
        "      if(h.lower()==j.lower()):\n",
        "        if numbers != []:\n",
        "          if j.lower() == 'metros':\n",
        "            y=int(numbers[0])\n",
        "            numbers.pop(0)\n",
        "          if j.lower() == 'segundos':\n",
        "            t=int(numbers[0])\n",
        "            numbers.pop(0)\n",
        "          if j.lower() == 'm/s':\n",
        "            vi=int(numbers[0])\n",
        "            numbers.pop(0)\n",
        "    numbers = [int(temp) for temp in j.split() if temp.isdigit()]\n",
        "\n",
        "    for n in busqueda:\n",
        "      if n.lower() == 'tiempo' and t == 0:\n",
        "        a = calcu(y,t,vf,vi,g,n)\n",
        "        t = a\n",
        "      if n.lower() == 'altura' and y == 0:\n",
        "        a = calcu(y,t,vf,vi,g,n)\n",
        "        y = a\n",
        "      if n.lower() == 'velocidad' and vf == 0:\n",
        "        a = calcu(y,t,vf,vi,g,n)\n",
        "        vf = a\n",
        "\n",
        "print(\"la altura es de {:.2f}\".format(y),\"metros\")\n",
        "print(\"el tiempo es de {:.2f}\".format(t),\"segundos\")\n",
        "print(\"la velocidad inicial es de {:.2f}\".format(vi),\"m/s\")\n",
        "print(\"la velocidad final es de {:.2f}\".format(vf),\"m/s\")\n"
      ],
      "execution_count": 3,
      "outputs": [
        {
          "output_type": "stream",
          "name": "stdout",
          "text": [
            "la altura es de 490.00 metros\n",
            "el tiempo es de 10.00 segundos\n",
            "la velocidad inicial es de 0.00 m/s\n",
            "la velocidad final es de 98.00 m/s\n"
          ]
        }
      ]
    }
  ]
}